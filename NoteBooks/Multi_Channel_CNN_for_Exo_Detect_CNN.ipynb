{
  "nbformat": 4,
  "nbformat_minor": 0,
  "metadata": {
    "colab": {
      "name": "Multi-Channel CNN for  Exo-Detect CNN.ipynb",
      "provenance": [],
      "collapsed_sections": [],
      "toc_visible": true
    },
    "kernelspec": {
      "name": "python3",
      "display_name": "Python 3"
    },
    "accelerator": "GPU"
  },
  "cells": [
    {
      "cell_type": "code",
      "metadata": {
        "id": "CAYF4aW7mu5J",
        "colab_type": "code",
        "outputId": "e2db5df5-0f59-40e7-b904-277bdee63f88",
        "colab": {
          "base_uri": "https://localhost:8080/",
          "height": 34
        }
      },
      "source": [
        "import tensorflow as tf\n",
        "print(tf.__version__)"
      ],
      "execution_count": 8,
      "outputs": [
        {
          "output_type": "stream",
          "text": [
            "2.2.0\n"
          ],
          "name": "stdout"
        }
      ]
    },
    {
      "cell_type": "code",
      "metadata": {
        "id": "yMKNP0T1mwmG",
        "colab_type": "code",
        "colab": {}
      },
      "source": [
        "from tensorflow.keras.layers import Flatten, Dense, Dropout, BatchNormalization, Conv1D, Conv2D, MaxPooling1D, MaxPooling2D"
      ],
      "execution_count": 0,
      "outputs": []
    },
    {
      "cell_type": "code",
      "metadata": {
        "id": "OLKH81Bfm_fE",
        "colab_type": "code",
        "colab": {}
      },
      "source": [
        "from tensorflow.keras.optimizers import Adam, SGD"
      ],
      "execution_count": 0,
      "outputs": []
    },
    {
      "cell_type": "code",
      "metadata": {
        "id": "5NdYHfKunCty",
        "colab_type": "code",
        "colab": {}
      },
      "source": [
        "import numpy as np\n",
        "import pandas as pd"
      ],
      "execution_count": 0,
      "outputs": []
    },
    {
      "cell_type": "code",
      "metadata": {
        "id": "S0aK1yiNnHlZ",
        "colab_type": "code",
        "colab": {}
      },
      "source": [
        "from sklearn.model_selection import train_test_split\n",
        "from tqdm import tqdm"
      ],
      "execution_count": 0,
      "outputs": []
    },
    {
      "cell_type": "code",
      "metadata": {
        "id": "hLIRT7gznO6Q",
        "colab_type": "code",
        "colab": {}
      },
      "source": [
        "from sklearn.preprocessing import StandardScaler, normalize"
      ],
      "execution_count": 0,
      "outputs": []
    },
    {
      "cell_type": "code",
      "metadata": {
        "id": "77DtYpcQqeba",
        "colab_type": "code",
        "outputId": "9828fde4-9a17-4c88-8bbb-fd747ed05130",
        "colab": {
          "base_uri": "https://localhost:8080/",
          "height": 34
        }
      },
      "source": [
        "data = pd.read_csv('/content/drive/My Drive/ExoTrain.csv')\n",
        "data.shape"
      ],
      "execution_count": 15,
      "outputs": [
        {
          "output_type": "execute_result",
          "data": {
            "text/plain": [
              "(3960, 3198)"
            ]
          },
          "metadata": {
            "tags": []
          },
          "execution_count": 15
        }
      ]
    },
    {
      "cell_type": "code",
      "metadata": {
        "id": "swDMonRjm0KI",
        "colab_type": "code",
        "colab": {}
      },
      "source": [
        "test_data = pd.read_csv('/content/drive/My Drive/exoTest.csv')"
      ],
      "execution_count": 0,
      "outputs": []
    },
    {
      "cell_type": "code",
      "metadata": {
        "id": "mOikNcSEqkXj",
        "colab_type": "code",
        "outputId": "c289e88b-26b4-46de-e3c0-16b641c059d4",
        "colab": {
          "base_uri": "https://localhost:8080/",
          "height": 253
        }
      },
      "source": [
        "data.head()"
      ],
      "execution_count": 17,
      "outputs": [
        {
          "output_type": "execute_result",
          "data": {
            "text/html": [
              "<div>\n",
              "<style scoped>\n",
              "    .dataframe tbody tr th:only-of-type {\n",
              "        vertical-align: middle;\n",
              "    }\n",
              "\n",
              "    .dataframe tbody tr th {\n",
              "        vertical-align: top;\n",
              "    }\n",
              "\n",
              "    .dataframe thead th {\n",
              "        text-align: right;\n",
              "    }\n",
              "</style>\n",
              "<table border=\"1\" class=\"dataframe\">\n",
              "  <thead>\n",
              "    <tr style=\"text-align: right;\">\n",
              "      <th></th>\n",
              "      <th>LABEL</th>\n",
              "      <th>FLUX.1</th>\n",
              "      <th>FLUX.2</th>\n",
              "      <th>FLUX.3</th>\n",
              "      <th>FLUX.4</th>\n",
              "      <th>FLUX.5</th>\n",
              "      <th>FLUX.6</th>\n",
              "      <th>FLUX.7</th>\n",
              "      <th>FLUX.8</th>\n",
              "      <th>FLUX.9</th>\n",
              "      <th>FLUX.10</th>\n",
              "      <th>FLUX.11</th>\n",
              "      <th>FLUX.12</th>\n",
              "      <th>FLUX.13</th>\n",
              "      <th>FLUX.14</th>\n",
              "      <th>FLUX.15</th>\n",
              "      <th>FLUX.16</th>\n",
              "      <th>FLUX.17</th>\n",
              "      <th>FLUX.18</th>\n",
              "      <th>FLUX.19</th>\n",
              "      <th>FLUX.20</th>\n",
              "      <th>FLUX.21</th>\n",
              "      <th>FLUX.22</th>\n",
              "      <th>FLUX.23</th>\n",
              "      <th>FLUX.24</th>\n",
              "      <th>FLUX.25</th>\n",
              "      <th>FLUX.26</th>\n",
              "      <th>FLUX.27</th>\n",
              "      <th>FLUX.28</th>\n",
              "      <th>FLUX.29</th>\n",
              "      <th>FLUX.30</th>\n",
              "      <th>FLUX.31</th>\n",
              "      <th>FLUX.32</th>\n",
              "      <th>FLUX.33</th>\n",
              "      <th>FLUX.34</th>\n",
              "      <th>FLUX.35</th>\n",
              "      <th>FLUX.36</th>\n",
              "      <th>FLUX.37</th>\n",
              "      <th>FLUX.38</th>\n",
              "      <th>FLUX.39</th>\n",
              "      <th>...</th>\n",
              "      <th>FLUX.3158</th>\n",
              "      <th>FLUX.3159</th>\n",
              "      <th>FLUX.3160</th>\n",
              "      <th>FLUX.3161</th>\n",
              "      <th>FLUX.3162</th>\n",
              "      <th>FLUX.3163</th>\n",
              "      <th>FLUX.3164</th>\n",
              "      <th>FLUX.3165</th>\n",
              "      <th>FLUX.3166</th>\n",
              "      <th>FLUX.3167</th>\n",
              "      <th>FLUX.3168</th>\n",
              "      <th>FLUX.3169</th>\n",
              "      <th>FLUX.3170</th>\n",
              "      <th>FLUX.3171</th>\n",
              "      <th>FLUX.3172</th>\n",
              "      <th>FLUX.3173</th>\n",
              "      <th>FLUX.3174</th>\n",
              "      <th>FLUX.3175</th>\n",
              "      <th>FLUX.3176</th>\n",
              "      <th>FLUX.3177</th>\n",
              "      <th>FLUX.3178</th>\n",
              "      <th>FLUX.3179</th>\n",
              "      <th>FLUX.3180</th>\n",
              "      <th>FLUX.3181</th>\n",
              "      <th>FLUX.3182</th>\n",
              "      <th>FLUX.3183</th>\n",
              "      <th>FLUX.3184</th>\n",
              "      <th>FLUX.3185</th>\n",
              "      <th>FLUX.3186</th>\n",
              "      <th>FLUX.3187</th>\n",
              "      <th>FLUX.3188</th>\n",
              "      <th>FLUX.3189</th>\n",
              "      <th>FLUX.3190</th>\n",
              "      <th>FLUX.3191</th>\n",
              "      <th>FLUX.3192</th>\n",
              "      <th>FLUX.3193</th>\n",
              "      <th>FLUX.3194</th>\n",
              "      <th>FLUX.3195</th>\n",
              "      <th>FLUX.3196</th>\n",
              "      <th>FLUX.3197</th>\n",
              "    </tr>\n",
              "  </thead>\n",
              "  <tbody>\n",
              "    <tr>\n",
              "      <th>0</th>\n",
              "      <td>2</td>\n",
              "      <td>-38.88</td>\n",
              "      <td>-33.83</td>\n",
              "      <td>-58.54</td>\n",
              "      <td>-40.09</td>\n",
              "      <td>-79.31</td>\n",
              "      <td>-72.81</td>\n",
              "      <td>-86.55</td>\n",
              "      <td>-85.33</td>\n",
              "      <td>-83.97</td>\n",
              "      <td>-73.38</td>\n",
              "      <td>-86.51</td>\n",
              "      <td>-74.97</td>\n",
              "      <td>-73.15</td>\n",
              "      <td>-86.13</td>\n",
              "      <td>-76.57</td>\n",
              "      <td>-61.27</td>\n",
              "      <td>-37.23</td>\n",
              "      <td>-48.53</td>\n",
              "      <td>-30.96</td>\n",
              "      <td>-8.14</td>\n",
              "      <td>-5.54</td>\n",
              "      <td>15.79</td>\n",
              "      <td>45.71</td>\n",
              "      <td>10.61</td>\n",
              "      <td>40.66</td>\n",
              "      <td>16.70</td>\n",
              "      <td>15.18</td>\n",
              "      <td>11.98</td>\n",
              "      <td>-203.70</td>\n",
              "      <td>19.13</td>\n",
              "      <td>19.13</td>\n",
              "      <td>19.13</td>\n",
              "      <td>19.13</td>\n",
              "      <td>19.13</td>\n",
              "      <td>17.02</td>\n",
              "      <td>-8.50</td>\n",
              "      <td>-13.87</td>\n",
              "      <td>-29.10</td>\n",
              "      <td>-34.29</td>\n",
              "      <td>...</td>\n",
              "      <td>-36.75</td>\n",
              "      <td>-15.49</td>\n",
              "      <td>-13.24</td>\n",
              "      <td>20.46</td>\n",
              "      <td>-1.47</td>\n",
              "      <td>-0.40</td>\n",
              "      <td>27.80</td>\n",
              "      <td>-58.20</td>\n",
              "      <td>-58.20</td>\n",
              "      <td>-72.04</td>\n",
              "      <td>-58.01</td>\n",
              "      <td>-30.92</td>\n",
              "      <td>-13.42</td>\n",
              "      <td>-13.98</td>\n",
              "      <td>-5.43</td>\n",
              "      <td>8.71</td>\n",
              "      <td>1.80</td>\n",
              "      <td>36.59</td>\n",
              "      <td>-9.80</td>\n",
              "      <td>-19.53</td>\n",
              "      <td>-19.53</td>\n",
              "      <td>-24.32</td>\n",
              "      <td>-23.88</td>\n",
              "      <td>-33.07</td>\n",
              "      <td>-9.03</td>\n",
              "      <td>3.75</td>\n",
              "      <td>11.61</td>\n",
              "      <td>-12.66</td>\n",
              "      <td>-5.69</td>\n",
              "      <td>12.53</td>\n",
              "      <td>-3.28</td>\n",
              "      <td>-32.21</td>\n",
              "      <td>-32.21</td>\n",
              "      <td>-24.89</td>\n",
              "      <td>-4.86</td>\n",
              "      <td>0.76</td>\n",
              "      <td>-11.70</td>\n",
              "      <td>6.46</td>\n",
              "      <td>16.00</td>\n",
              "      <td>19.93</td>\n",
              "    </tr>\n",
              "    <tr>\n",
              "      <th>1</th>\n",
              "      <td>2</td>\n",
              "      <td>532.64</td>\n",
              "      <td>535.92</td>\n",
              "      <td>513.73</td>\n",
              "      <td>496.92</td>\n",
              "      <td>456.45</td>\n",
              "      <td>466.00</td>\n",
              "      <td>464.50</td>\n",
              "      <td>486.39</td>\n",
              "      <td>436.56</td>\n",
              "      <td>484.39</td>\n",
              "      <td>469.66</td>\n",
              "      <td>462.30</td>\n",
              "      <td>492.23</td>\n",
              "      <td>441.20</td>\n",
              "      <td>483.17</td>\n",
              "      <td>481.28</td>\n",
              "      <td>535.31</td>\n",
              "      <td>554.34</td>\n",
              "      <td>562.80</td>\n",
              "      <td>540.14</td>\n",
              "      <td>576.34</td>\n",
              "      <td>551.67</td>\n",
              "      <td>556.69</td>\n",
              "      <td>550.86</td>\n",
              "      <td>577.33</td>\n",
              "      <td>562.08</td>\n",
              "      <td>577.97</td>\n",
              "      <td>530.67</td>\n",
              "      <td>553.27</td>\n",
              "      <td>538.33</td>\n",
              "      <td>527.17</td>\n",
              "      <td>532.50</td>\n",
              "      <td>273.66</td>\n",
              "      <td>273.66</td>\n",
              "      <td>292.39</td>\n",
              "      <td>298.44</td>\n",
              "      <td>252.64</td>\n",
              "      <td>233.58</td>\n",
              "      <td>171.41</td>\n",
              "      <td>...</td>\n",
              "      <td>-51.09</td>\n",
              "      <td>-33.30</td>\n",
              "      <td>-61.53</td>\n",
              "      <td>-89.61</td>\n",
              "      <td>-69.17</td>\n",
              "      <td>-86.47</td>\n",
              "      <td>-140.91</td>\n",
              "      <td>-84.20</td>\n",
              "      <td>-84.20</td>\n",
              "      <td>-89.09</td>\n",
              "      <td>-55.44</td>\n",
              "      <td>-61.05</td>\n",
              "      <td>-29.17</td>\n",
              "      <td>-63.80</td>\n",
              "      <td>-57.61</td>\n",
              "      <td>2.70</td>\n",
              "      <td>-31.25</td>\n",
              "      <td>-47.09</td>\n",
              "      <td>-6.53</td>\n",
              "      <td>14.00</td>\n",
              "      <td>14.00</td>\n",
              "      <td>-25.05</td>\n",
              "      <td>-34.98</td>\n",
              "      <td>-32.08</td>\n",
              "      <td>-17.06</td>\n",
              "      <td>-27.77</td>\n",
              "      <td>7.86</td>\n",
              "      <td>-70.77</td>\n",
              "      <td>-64.44</td>\n",
              "      <td>-83.83</td>\n",
              "      <td>-71.69</td>\n",
              "      <td>13.31</td>\n",
              "      <td>13.31</td>\n",
              "      <td>-29.89</td>\n",
              "      <td>-20.88</td>\n",
              "      <td>5.06</td>\n",
              "      <td>-11.80</td>\n",
              "      <td>-28.91</td>\n",
              "      <td>-70.02</td>\n",
              "      <td>-96.67</td>\n",
              "    </tr>\n",
              "    <tr>\n",
              "      <th>2</th>\n",
              "      <td>2</td>\n",
              "      <td>326.52</td>\n",
              "      <td>347.39</td>\n",
              "      <td>302.35</td>\n",
              "      <td>298.13</td>\n",
              "      <td>317.74</td>\n",
              "      <td>312.70</td>\n",
              "      <td>322.33</td>\n",
              "      <td>311.31</td>\n",
              "      <td>312.42</td>\n",
              "      <td>323.33</td>\n",
              "      <td>311.14</td>\n",
              "      <td>326.19</td>\n",
              "      <td>313.11</td>\n",
              "      <td>313.89</td>\n",
              "      <td>317.96</td>\n",
              "      <td>330.92</td>\n",
              "      <td>341.10</td>\n",
              "      <td>360.58</td>\n",
              "      <td>370.29</td>\n",
              "      <td>369.71</td>\n",
              "      <td>339.00</td>\n",
              "      <td>336.24</td>\n",
              "      <td>319.31</td>\n",
              "      <td>321.56</td>\n",
              "      <td>308.02</td>\n",
              "      <td>296.82</td>\n",
              "      <td>279.34</td>\n",
              "      <td>275.78</td>\n",
              "      <td>289.67</td>\n",
              "      <td>281.33</td>\n",
              "      <td>285.37</td>\n",
              "      <td>281.87</td>\n",
              "      <td>88.75</td>\n",
              "      <td>88.75</td>\n",
              "      <td>67.71</td>\n",
              "      <td>74.46</td>\n",
              "      <td>69.34</td>\n",
              "      <td>76.51</td>\n",
              "      <td>80.26</td>\n",
              "      <td>...</td>\n",
              "      <td>-2.75</td>\n",
              "      <td>14.29</td>\n",
              "      <td>-14.18</td>\n",
              "      <td>-25.14</td>\n",
              "      <td>-13.43</td>\n",
              "      <td>-14.74</td>\n",
              "      <td>2.24</td>\n",
              "      <td>-31.07</td>\n",
              "      <td>-31.07</td>\n",
              "      <td>-50.27</td>\n",
              "      <td>-39.22</td>\n",
              "      <td>-51.33</td>\n",
              "      <td>-18.53</td>\n",
              "      <td>-1.99</td>\n",
              "      <td>10.43</td>\n",
              "      <td>-1.97</td>\n",
              "      <td>-15.32</td>\n",
              "      <td>-23.38</td>\n",
              "      <td>-27.71</td>\n",
              "      <td>-36.12</td>\n",
              "      <td>-36.12</td>\n",
              "      <td>-15.65</td>\n",
              "      <td>6.63</td>\n",
              "      <td>10.66</td>\n",
              "      <td>-8.57</td>\n",
              "      <td>-8.29</td>\n",
              "      <td>-21.90</td>\n",
              "      <td>-25.80</td>\n",
              "      <td>-29.86</td>\n",
              "      <td>7.42</td>\n",
              "      <td>5.71</td>\n",
              "      <td>-3.73</td>\n",
              "      <td>-3.73</td>\n",
              "      <td>30.05</td>\n",
              "      <td>20.03</td>\n",
              "      <td>-12.67</td>\n",
              "      <td>-8.77</td>\n",
              "      <td>-17.31</td>\n",
              "      <td>-17.35</td>\n",
              "      <td>13.98</td>\n",
              "    </tr>\n",
              "    <tr>\n",
              "      <th>3</th>\n",
              "      <td>2</td>\n",
              "      <td>-1107.21</td>\n",
              "      <td>-1112.59</td>\n",
              "      <td>-1118.95</td>\n",
              "      <td>-1095.10</td>\n",
              "      <td>-1057.55</td>\n",
              "      <td>-1034.48</td>\n",
              "      <td>-998.34</td>\n",
              "      <td>-1022.71</td>\n",
              "      <td>-989.57</td>\n",
              "      <td>-970.88</td>\n",
              "      <td>-933.30</td>\n",
              "      <td>-889.49</td>\n",
              "      <td>-888.66</td>\n",
              "      <td>-853.95</td>\n",
              "      <td>-800.91</td>\n",
              "      <td>-754.48</td>\n",
              "      <td>-717.24</td>\n",
              "      <td>-649.34</td>\n",
              "      <td>-605.71</td>\n",
              "      <td>-575.62</td>\n",
              "      <td>-526.37</td>\n",
              "      <td>-490.12</td>\n",
              "      <td>-458.73</td>\n",
              "      <td>-447.76</td>\n",
              "      <td>-419.54</td>\n",
              "      <td>-410.76</td>\n",
              "      <td>-404.10</td>\n",
              "      <td>-425.38</td>\n",
              "      <td>-397.29</td>\n",
              "      <td>-412.73</td>\n",
              "      <td>-446.49</td>\n",
              "      <td>-413.46</td>\n",
              "      <td>-1006.21</td>\n",
              "      <td>-1006.21</td>\n",
              "      <td>-973.29</td>\n",
              "      <td>-986.01</td>\n",
              "      <td>-975.88</td>\n",
              "      <td>-982.20</td>\n",
              "      <td>-953.73</td>\n",
              "      <td>...</td>\n",
              "      <td>-694.76</td>\n",
              "      <td>-705.01</td>\n",
              "      <td>-625.24</td>\n",
              "      <td>-604.16</td>\n",
              "      <td>-668.26</td>\n",
              "      <td>-742.18</td>\n",
              "      <td>-820.55</td>\n",
              "      <td>-874.76</td>\n",
              "      <td>-874.76</td>\n",
              "      <td>-853.68</td>\n",
              "      <td>-808.62</td>\n",
              "      <td>-777.88</td>\n",
              "      <td>-712.62</td>\n",
              "      <td>-694.01</td>\n",
              "      <td>-655.74</td>\n",
              "      <td>-599.74</td>\n",
              "      <td>-617.30</td>\n",
              "      <td>-602.98</td>\n",
              "      <td>-539.29</td>\n",
              "      <td>-672.71</td>\n",
              "      <td>-672.71</td>\n",
              "      <td>-594.49</td>\n",
              "      <td>-597.60</td>\n",
              "      <td>-560.77</td>\n",
              "      <td>-501.95</td>\n",
              "      <td>-461.62</td>\n",
              "      <td>-468.59</td>\n",
              "      <td>-513.24</td>\n",
              "      <td>-504.70</td>\n",
              "      <td>-521.95</td>\n",
              "      <td>-594.37</td>\n",
              "      <td>-401.66</td>\n",
              "      <td>-401.66</td>\n",
              "      <td>-357.24</td>\n",
              "      <td>-443.76</td>\n",
              "      <td>-438.54</td>\n",
              "      <td>-399.71</td>\n",
              "      <td>-384.65</td>\n",
              "      <td>-411.79</td>\n",
              "      <td>-510.54</td>\n",
              "    </tr>\n",
              "    <tr>\n",
              "      <th>4</th>\n",
              "      <td>2</td>\n",
              "      <td>211.10</td>\n",
              "      <td>163.57</td>\n",
              "      <td>179.16</td>\n",
              "      <td>187.82</td>\n",
              "      <td>188.46</td>\n",
              "      <td>168.13</td>\n",
              "      <td>203.46</td>\n",
              "      <td>178.65</td>\n",
              "      <td>166.49</td>\n",
              "      <td>139.34</td>\n",
              "      <td>146.76</td>\n",
              "      <td>149.16</td>\n",
              "      <td>162.55</td>\n",
              "      <td>159.35</td>\n",
              "      <td>173.32</td>\n",
              "      <td>108.24</td>\n",
              "      <td>175.35</td>\n",
              "      <td>143.40</td>\n",
              "      <td>119.30</td>\n",
              "      <td>168.29</td>\n",
              "      <td>111.73</td>\n",
              "      <td>123.88</td>\n",
              "      <td>111.99</td>\n",
              "      <td>95.35</td>\n",
              "      <td>139.62</td>\n",
              "      <td>127.99</td>\n",
              "      <td>66.95</td>\n",
              "      <td>90.45</td>\n",
              "      <td>63.15</td>\n",
              "      <td>64.90</td>\n",
              "      <td>-5.26</td>\n",
              "      <td>21.18</td>\n",
              "      <td>112.74</td>\n",
              "      <td>112.74</td>\n",
              "      <td>101.49</td>\n",
              "      <td>119.48</td>\n",
              "      <td>96.91</td>\n",
              "      <td>120.71</td>\n",
              "      <td>66.15</td>\n",
              "      <td>...</td>\n",
              "      <td>-3.63</td>\n",
              "      <td>3.73</td>\n",
              "      <td>-18.59</td>\n",
              "      <td>-62.30</td>\n",
              "      <td>-73.95</td>\n",
              "      <td>-112.23</td>\n",
              "      <td>-146.48</td>\n",
              "      <td>-76.82</td>\n",
              "      <td>-76.82</td>\n",
              "      <td>-68.02</td>\n",
              "      <td>-34.60</td>\n",
              "      <td>-71.05</td>\n",
              "      <td>-36.38</td>\n",
              "      <td>-6.16</td>\n",
              "      <td>-21.48</td>\n",
              "      <td>-57.98</td>\n",
              "      <td>-55.37</td>\n",
              "      <td>-64.99</td>\n",
              "      <td>-73.77</td>\n",
              "      <td>-33.41</td>\n",
              "      <td>-33.41</td>\n",
              "      <td>12.84</td>\n",
              "      <td>-22.15</td>\n",
              "      <td>-19.23</td>\n",
              "      <td>-8.40</td>\n",
              "      <td>22.04</td>\n",
              "      <td>-9.98</td>\n",
              "      <td>1.12</td>\n",
              "      <td>-49.16</td>\n",
              "      <td>-69.34</td>\n",
              "      <td>-98.45</td>\n",
              "      <td>30.34</td>\n",
              "      <td>30.34</td>\n",
              "      <td>29.62</td>\n",
              "      <td>28.80</td>\n",
              "      <td>19.27</td>\n",
              "      <td>-43.90</td>\n",
              "      <td>-41.63</td>\n",
              "      <td>-52.90</td>\n",
              "      <td>-16.16</td>\n",
              "    </tr>\n",
              "  </tbody>\n",
              "</table>\n",
              "<p>5 rows × 3198 columns</p>\n",
              "</div>"
            ],
            "text/plain": [
              "   LABEL   FLUX.1   FLUX.2   FLUX.3  ...  FLUX.3194  FLUX.3195  FLUX.3196  FLUX.3197\n",
              "0      2   -38.88   -33.83   -58.54  ...     -11.70       6.46      16.00      19.93\n",
              "1      2   532.64   535.92   513.73  ...     -11.80     -28.91     -70.02     -96.67\n",
              "2      2   326.52   347.39   302.35  ...      -8.77     -17.31     -17.35      13.98\n",
              "3      2 -1107.21 -1112.59 -1118.95  ...    -399.71    -384.65    -411.79    -510.54\n",
              "4      2   211.10   163.57   179.16  ...     -43.90     -41.63     -52.90     -16.16\n",
              "\n",
              "[5 rows x 3198 columns]"
            ]
          },
          "metadata": {
            "tags": []
          },
          "execution_count": 17
        }
      ]
    },
    {
      "cell_type": "code",
      "metadata": {
        "id": "-ubL3m1aoe41",
        "colab_type": "code",
        "outputId": "5190adc4-a8cf-448c-e611-f273484bd8bd",
        "colab": {
          "base_uri": "https://localhost:8080/",
          "height": 253
        }
      },
      "source": [
        "test_data.head()"
      ],
      "execution_count": 18,
      "outputs": [
        {
          "output_type": "execute_result",
          "data": {
            "text/html": [
              "<div>\n",
              "<style scoped>\n",
              "    .dataframe tbody tr th:only-of-type {\n",
              "        vertical-align: middle;\n",
              "    }\n",
              "\n",
              "    .dataframe tbody tr th {\n",
              "        vertical-align: top;\n",
              "    }\n",
              "\n",
              "    .dataframe thead th {\n",
              "        text-align: right;\n",
              "    }\n",
              "</style>\n",
              "<table border=\"1\" class=\"dataframe\">\n",
              "  <thead>\n",
              "    <tr style=\"text-align: right;\">\n",
              "      <th></th>\n",
              "      <th>LABEL</th>\n",
              "      <th>FLUX.1</th>\n",
              "      <th>FLUX.2</th>\n",
              "      <th>FLUX.3</th>\n",
              "      <th>FLUX.4</th>\n",
              "      <th>FLUX.5</th>\n",
              "      <th>FLUX.6</th>\n",
              "      <th>FLUX.7</th>\n",
              "      <th>FLUX.8</th>\n",
              "      <th>FLUX.9</th>\n",
              "      <th>FLUX.10</th>\n",
              "      <th>FLUX.11</th>\n",
              "      <th>FLUX.12</th>\n",
              "      <th>FLUX.13</th>\n",
              "      <th>FLUX.14</th>\n",
              "      <th>FLUX.15</th>\n",
              "      <th>FLUX.16</th>\n",
              "      <th>FLUX.17</th>\n",
              "      <th>FLUX.18</th>\n",
              "      <th>FLUX.19</th>\n",
              "      <th>FLUX.20</th>\n",
              "      <th>FLUX.21</th>\n",
              "      <th>FLUX.22</th>\n",
              "      <th>FLUX.23</th>\n",
              "      <th>FLUX.24</th>\n",
              "      <th>FLUX.25</th>\n",
              "      <th>FLUX.26</th>\n",
              "      <th>FLUX.27</th>\n",
              "      <th>FLUX.28</th>\n",
              "      <th>FLUX.29</th>\n",
              "      <th>FLUX.30</th>\n",
              "      <th>FLUX.31</th>\n",
              "      <th>FLUX.32</th>\n",
              "      <th>FLUX.33</th>\n",
              "      <th>FLUX.34</th>\n",
              "      <th>FLUX.35</th>\n",
              "      <th>FLUX.36</th>\n",
              "      <th>FLUX.37</th>\n",
              "      <th>FLUX.38</th>\n",
              "      <th>FLUX.39</th>\n",
              "      <th>...</th>\n",
              "      <th>FLUX.3158</th>\n",
              "      <th>FLUX.3159</th>\n",
              "      <th>FLUX.3160</th>\n",
              "      <th>FLUX.3161</th>\n",
              "      <th>FLUX.3162</th>\n",
              "      <th>FLUX.3163</th>\n",
              "      <th>FLUX.3164</th>\n",
              "      <th>FLUX.3165</th>\n",
              "      <th>FLUX.3166</th>\n",
              "      <th>FLUX.3167</th>\n",
              "      <th>FLUX.3168</th>\n",
              "      <th>FLUX.3169</th>\n",
              "      <th>FLUX.3170</th>\n",
              "      <th>FLUX.3171</th>\n",
              "      <th>FLUX.3172</th>\n",
              "      <th>FLUX.3173</th>\n",
              "      <th>FLUX.3174</th>\n",
              "      <th>FLUX.3175</th>\n",
              "      <th>FLUX.3176</th>\n",
              "      <th>FLUX.3177</th>\n",
              "      <th>FLUX.3178</th>\n",
              "      <th>FLUX.3179</th>\n",
              "      <th>FLUX.3180</th>\n",
              "      <th>FLUX.3181</th>\n",
              "      <th>FLUX.3182</th>\n",
              "      <th>FLUX.3183</th>\n",
              "      <th>FLUX.3184</th>\n",
              "      <th>FLUX.3185</th>\n",
              "      <th>FLUX.3186</th>\n",
              "      <th>FLUX.3187</th>\n",
              "      <th>FLUX.3188</th>\n",
              "      <th>FLUX.3189</th>\n",
              "      <th>FLUX.3190</th>\n",
              "      <th>FLUX.3191</th>\n",
              "      <th>FLUX.3192</th>\n",
              "      <th>FLUX.3193</th>\n",
              "      <th>FLUX.3194</th>\n",
              "      <th>FLUX.3195</th>\n",
              "      <th>FLUX.3196</th>\n",
              "      <th>FLUX.3197</th>\n",
              "    </tr>\n",
              "  </thead>\n",
              "  <tbody>\n",
              "    <tr>\n",
              "      <th>0</th>\n",
              "      <td>2</td>\n",
              "      <td>119.88</td>\n",
              "      <td>100.21</td>\n",
              "      <td>86.46</td>\n",
              "      <td>48.68</td>\n",
              "      <td>46.12</td>\n",
              "      <td>39.39</td>\n",
              "      <td>18.57</td>\n",
              "      <td>6.98</td>\n",
              "      <td>6.63</td>\n",
              "      <td>-21.97</td>\n",
              "      <td>-23.17</td>\n",
              "      <td>-29.26</td>\n",
              "      <td>-33.99</td>\n",
              "      <td>-6.25</td>\n",
              "      <td>-28.12</td>\n",
              "      <td>-27.24</td>\n",
              "      <td>-32.28</td>\n",
              "      <td>-12.29</td>\n",
              "      <td>-16.57</td>\n",
              "      <td>-23.86</td>\n",
              "      <td>-5.69</td>\n",
              "      <td>9.24</td>\n",
              "      <td>35.52</td>\n",
              "      <td>81.20</td>\n",
              "      <td>116.49</td>\n",
              "      <td>133.99</td>\n",
              "      <td>148.97</td>\n",
              "      <td>174.15</td>\n",
              "      <td>187.77</td>\n",
              "      <td>215.30</td>\n",
              "      <td>246.80</td>\n",
              "      <td>-56.68</td>\n",
              "      <td>-56.68</td>\n",
              "      <td>-56.68</td>\n",
              "      <td>-52.05</td>\n",
              "      <td>-31.52</td>\n",
              "      <td>-31.15</td>\n",
              "      <td>-48.53</td>\n",
              "      <td>-38.93</td>\n",
              "      <td>...</td>\n",
              "      <td>-2.55</td>\n",
              "      <td>12.26</td>\n",
              "      <td>-7.06</td>\n",
              "      <td>-23.53</td>\n",
              "      <td>2.54</td>\n",
              "      <td>30.21</td>\n",
              "      <td>38.87</td>\n",
              "      <td>-22.86</td>\n",
              "      <td>-22.86</td>\n",
              "      <td>-4.37</td>\n",
              "      <td>2.27</td>\n",
              "      <td>-16.27</td>\n",
              "      <td>-30.84</td>\n",
              "      <td>-7.21</td>\n",
              "      <td>-4.27</td>\n",
              "      <td>13.60</td>\n",
              "      <td>15.62</td>\n",
              "      <td>31.96</td>\n",
              "      <td>49.89</td>\n",
              "      <td>86.93</td>\n",
              "      <td>86.93</td>\n",
              "      <td>42.99</td>\n",
              "      <td>48.76</td>\n",
              "      <td>22.82</td>\n",
              "      <td>32.79</td>\n",
              "      <td>30.76</td>\n",
              "      <td>14.55</td>\n",
              "      <td>10.92</td>\n",
              "      <td>22.68</td>\n",
              "      <td>5.91</td>\n",
              "      <td>14.52</td>\n",
              "      <td>19.29</td>\n",
              "      <td>14.44</td>\n",
              "      <td>-1.62</td>\n",
              "      <td>13.33</td>\n",
              "      <td>45.50</td>\n",
              "      <td>31.93</td>\n",
              "      <td>35.78</td>\n",
              "      <td>269.43</td>\n",
              "      <td>57.72</td>\n",
              "    </tr>\n",
              "    <tr>\n",
              "      <th>1</th>\n",
              "      <td>2</td>\n",
              "      <td>5736.59</td>\n",
              "      <td>5699.98</td>\n",
              "      <td>5717.16</td>\n",
              "      <td>5692.73</td>\n",
              "      <td>5663.83</td>\n",
              "      <td>5631.16</td>\n",
              "      <td>5626.39</td>\n",
              "      <td>5569.47</td>\n",
              "      <td>5550.44</td>\n",
              "      <td>5458.80</td>\n",
              "      <td>5329.39</td>\n",
              "      <td>5191.38</td>\n",
              "      <td>5031.39</td>\n",
              "      <td>4769.89</td>\n",
              "      <td>4419.66</td>\n",
              "      <td>4218.92</td>\n",
              "      <td>3924.73</td>\n",
              "      <td>3605.30</td>\n",
              "      <td>3326.55</td>\n",
              "      <td>3021.20</td>\n",
              "      <td>2800.61</td>\n",
              "      <td>2474.48</td>\n",
              "      <td>2258.33</td>\n",
              "      <td>1951.69</td>\n",
              "      <td>1749.86</td>\n",
              "      <td>1585.38</td>\n",
              "      <td>1575.48</td>\n",
              "      <td>1568.41</td>\n",
              "      <td>1661.08</td>\n",
              "      <td>1977.33</td>\n",
              "      <td>2425.62</td>\n",
              "      <td>2889.61</td>\n",
              "      <td>3847.64</td>\n",
              "      <td>3847.64</td>\n",
              "      <td>3741.20</td>\n",
              "      <td>3453.47</td>\n",
              "      <td>3202.61</td>\n",
              "      <td>2923.73</td>\n",
              "      <td>2694.84</td>\n",
              "      <td>...</td>\n",
              "      <td>-3470.75</td>\n",
              "      <td>-4510.72</td>\n",
              "      <td>-5013.41</td>\n",
              "      <td>-3636.05</td>\n",
              "      <td>-2324.27</td>\n",
              "      <td>-2688.55</td>\n",
              "      <td>-2813.66</td>\n",
              "      <td>-586.22</td>\n",
              "      <td>-586.22</td>\n",
              "      <td>-756.80</td>\n",
              "      <td>-1090.23</td>\n",
              "      <td>-1388.61</td>\n",
              "      <td>-1745.36</td>\n",
              "      <td>-2015.28</td>\n",
              "      <td>-2359.06</td>\n",
              "      <td>-2516.66</td>\n",
              "      <td>-2699.31</td>\n",
              "      <td>-2777.55</td>\n",
              "      <td>-2732.97</td>\n",
              "      <td>1167.39</td>\n",
              "      <td>1167.39</td>\n",
              "      <td>1368.89</td>\n",
              "      <td>1434.80</td>\n",
              "      <td>1360.75</td>\n",
              "      <td>1148.44</td>\n",
              "      <td>1117.67</td>\n",
              "      <td>714.86</td>\n",
              "      <td>419.02</td>\n",
              "      <td>57.06</td>\n",
              "      <td>-175.66</td>\n",
              "      <td>-581.91</td>\n",
              "      <td>-984.09</td>\n",
              "      <td>-1230.89</td>\n",
              "      <td>-1600.45</td>\n",
              "      <td>-1824.53</td>\n",
              "      <td>-2061.17</td>\n",
              "      <td>-2265.98</td>\n",
              "      <td>-2366.19</td>\n",
              "      <td>-2294.86</td>\n",
              "      <td>-2034.72</td>\n",
              "    </tr>\n",
              "    <tr>\n",
              "      <th>2</th>\n",
              "      <td>2</td>\n",
              "      <td>844.48</td>\n",
              "      <td>817.49</td>\n",
              "      <td>770.07</td>\n",
              "      <td>675.01</td>\n",
              "      <td>605.52</td>\n",
              "      <td>499.45</td>\n",
              "      <td>440.77</td>\n",
              "      <td>362.95</td>\n",
              "      <td>207.27</td>\n",
              "      <td>150.46</td>\n",
              "      <td>85.49</td>\n",
              "      <td>-20.12</td>\n",
              "      <td>-35.88</td>\n",
              "      <td>-65.59</td>\n",
              "      <td>-15.12</td>\n",
              "      <td>16.60</td>\n",
              "      <td>-25.70</td>\n",
              "      <td>61.88</td>\n",
              "      <td>53.18</td>\n",
              "      <td>64.32</td>\n",
              "      <td>72.38</td>\n",
              "      <td>100.35</td>\n",
              "      <td>67.26</td>\n",
              "      <td>14.71</td>\n",
              "      <td>-16.41</td>\n",
              "      <td>-147.46</td>\n",
              "      <td>-231.27</td>\n",
              "      <td>-320.29</td>\n",
              "      <td>-407.82</td>\n",
              "      <td>-450.48</td>\n",
              "      <td>-146.99</td>\n",
              "      <td>-146.99</td>\n",
              "      <td>-146.99</td>\n",
              "      <td>-146.99</td>\n",
              "      <td>-166.30</td>\n",
              "      <td>-139.90</td>\n",
              "      <td>-96.41</td>\n",
              "      <td>-23.49</td>\n",
              "      <td>13.59</td>\n",
              "      <td>...</td>\n",
              "      <td>-35.24</td>\n",
              "      <td>-70.13</td>\n",
              "      <td>-35.30</td>\n",
              "      <td>-56.48</td>\n",
              "      <td>-74.60</td>\n",
              "      <td>-115.18</td>\n",
              "      <td>-8.91</td>\n",
              "      <td>-37.59</td>\n",
              "      <td>-37.59</td>\n",
              "      <td>-37.43</td>\n",
              "      <td>-104.23</td>\n",
              "      <td>-101.45</td>\n",
              "      <td>-107.35</td>\n",
              "      <td>-109.82</td>\n",
              "      <td>-126.27</td>\n",
              "      <td>-170.32</td>\n",
              "      <td>-117.85</td>\n",
              "      <td>-32.30</td>\n",
              "      <td>-70.18</td>\n",
              "      <td>314.29</td>\n",
              "      <td>314.29</td>\n",
              "      <td>314.29</td>\n",
              "      <td>149.71</td>\n",
              "      <td>54.60</td>\n",
              "      <td>12.60</td>\n",
              "      <td>-133.68</td>\n",
              "      <td>-78.16</td>\n",
              "      <td>-52.30</td>\n",
              "      <td>-8.55</td>\n",
              "      <td>-19.73</td>\n",
              "      <td>17.82</td>\n",
              "      <td>-51.66</td>\n",
              "      <td>-48.29</td>\n",
              "      <td>-59.99</td>\n",
              "      <td>-82.10</td>\n",
              "      <td>-174.54</td>\n",
              "      <td>-95.23</td>\n",
              "      <td>-162.68</td>\n",
              "      <td>-36.79</td>\n",
              "      <td>30.63</td>\n",
              "    </tr>\n",
              "    <tr>\n",
              "      <th>3</th>\n",
              "      <td>2</td>\n",
              "      <td>-826.00</td>\n",
              "      <td>-827.31</td>\n",
              "      <td>-846.12</td>\n",
              "      <td>-836.03</td>\n",
              "      <td>-745.50</td>\n",
              "      <td>-784.69</td>\n",
              "      <td>-791.22</td>\n",
              "      <td>-746.50</td>\n",
              "      <td>-709.53</td>\n",
              "      <td>-679.56</td>\n",
              "      <td>-706.03</td>\n",
              "      <td>-720.56</td>\n",
              "      <td>-631.12</td>\n",
              "      <td>-659.16</td>\n",
              "      <td>-672.03</td>\n",
              "      <td>-665.06</td>\n",
              "      <td>-667.94</td>\n",
              "      <td>-660.84</td>\n",
              "      <td>-672.75</td>\n",
              "      <td>-644.91</td>\n",
              "      <td>-680.53</td>\n",
              "      <td>-620.50</td>\n",
              "      <td>-570.34</td>\n",
              "      <td>-530.00</td>\n",
              "      <td>-537.88</td>\n",
              "      <td>-578.38</td>\n",
              "      <td>-532.34</td>\n",
              "      <td>-532.38</td>\n",
              "      <td>-491.03</td>\n",
              "      <td>-485.03</td>\n",
              "      <td>-427.19</td>\n",
              "      <td>-380.84</td>\n",
              "      <td>-329.50</td>\n",
              "      <td>-286.91</td>\n",
              "      <td>-283.81</td>\n",
              "      <td>-298.19</td>\n",
              "      <td>-271.03</td>\n",
              "      <td>-268.50</td>\n",
              "      <td>-209.56</td>\n",
              "      <td>...</td>\n",
              "      <td>16.50</td>\n",
              "      <td>-1286.59</td>\n",
              "      <td>-1286.59</td>\n",
              "      <td>-1286.59</td>\n",
              "      <td>-1286.59</td>\n",
              "      <td>-1286.59</td>\n",
              "      <td>-1286.59</td>\n",
              "      <td>-1286.59</td>\n",
              "      <td>-1286.59</td>\n",
              "      <td>-14.94</td>\n",
              "      <td>64.09</td>\n",
              "      <td>8.38</td>\n",
              "      <td>45.31</td>\n",
              "      <td>100.72</td>\n",
              "      <td>91.53</td>\n",
              "      <td>46.69</td>\n",
              "      <td>20.34</td>\n",
              "      <td>30.94</td>\n",
              "      <td>-36.81</td>\n",
              "      <td>-33.28</td>\n",
              "      <td>-69.62</td>\n",
              "      <td>-208.00</td>\n",
              "      <td>-280.28</td>\n",
              "      <td>-340.41</td>\n",
              "      <td>-337.41</td>\n",
              "      <td>-268.03</td>\n",
              "      <td>-245.00</td>\n",
              "      <td>-230.62</td>\n",
              "      <td>-129.59</td>\n",
              "      <td>-35.47</td>\n",
              "      <td>122.34</td>\n",
              "      <td>93.03</td>\n",
              "      <td>93.03</td>\n",
              "      <td>68.81</td>\n",
              "      <td>9.81</td>\n",
              "      <td>20.75</td>\n",
              "      <td>20.25</td>\n",
              "      <td>-120.81</td>\n",
              "      <td>-257.56</td>\n",
              "      <td>-215.41</td>\n",
              "    </tr>\n",
              "    <tr>\n",
              "      <th>4</th>\n",
              "      <td>2</td>\n",
              "      <td>-39.57</td>\n",
              "      <td>-15.88</td>\n",
              "      <td>-9.16</td>\n",
              "      <td>-6.37</td>\n",
              "      <td>-16.13</td>\n",
              "      <td>-24.05</td>\n",
              "      <td>-0.90</td>\n",
              "      <td>-45.20</td>\n",
              "      <td>-5.04</td>\n",
              "      <td>14.62</td>\n",
              "      <td>-19.52</td>\n",
              "      <td>-11.43</td>\n",
              "      <td>-49.80</td>\n",
              "      <td>25.84</td>\n",
              "      <td>11.62</td>\n",
              "      <td>3.18</td>\n",
              "      <td>-9.59</td>\n",
              "      <td>14.49</td>\n",
              "      <td>8.82</td>\n",
              "      <td>32.32</td>\n",
              "      <td>-28.90</td>\n",
              "      <td>-28.90</td>\n",
              "      <td>-14.09</td>\n",
              "      <td>-30.87</td>\n",
              "      <td>-18.99</td>\n",
              "      <td>-38.60</td>\n",
              "      <td>-27.79</td>\n",
              "      <td>9.65</td>\n",
              "      <td>29.60</td>\n",
              "      <td>7.88</td>\n",
              "      <td>42.87</td>\n",
              "      <td>27.59</td>\n",
              "      <td>27.05</td>\n",
              "      <td>20.26</td>\n",
              "      <td>29.48</td>\n",
              "      <td>9.71</td>\n",
              "      <td>22.84</td>\n",
              "      <td>25.99</td>\n",
              "      <td>-667.55</td>\n",
              "      <td>...</td>\n",
              "      <td>-122.12</td>\n",
              "      <td>-32.01</td>\n",
              "      <td>-47.15</td>\n",
              "      <td>-56.45</td>\n",
              "      <td>-41.71</td>\n",
              "      <td>-34.13</td>\n",
              "      <td>-43.12</td>\n",
              "      <td>-53.63</td>\n",
              "      <td>-53.63</td>\n",
              "      <td>-53.63</td>\n",
              "      <td>-24.29</td>\n",
              "      <td>22.29</td>\n",
              "      <td>25.18</td>\n",
              "      <td>1.84</td>\n",
              "      <td>-22.29</td>\n",
              "      <td>-26.43</td>\n",
              "      <td>-12.12</td>\n",
              "      <td>-33.05</td>\n",
              "      <td>-21.66</td>\n",
              "      <td>-228.32</td>\n",
              "      <td>-228.32</td>\n",
              "      <td>-228.32</td>\n",
              "      <td>-187.35</td>\n",
              "      <td>-166.23</td>\n",
              "      <td>-115.54</td>\n",
              "      <td>-50.18</td>\n",
              "      <td>-37.96</td>\n",
              "      <td>-22.37</td>\n",
              "      <td>-4.74</td>\n",
              "      <td>-35.82</td>\n",
              "      <td>-37.87</td>\n",
              "      <td>-61.85</td>\n",
              "      <td>-27.15</td>\n",
              "      <td>-21.18</td>\n",
              "      <td>-33.76</td>\n",
              "      <td>-85.34</td>\n",
              "      <td>-81.46</td>\n",
              "      <td>-61.98</td>\n",
              "      <td>-69.34</td>\n",
              "      <td>-17.84</td>\n",
              "    </tr>\n",
              "  </tbody>\n",
              "</table>\n",
              "<p>5 rows × 3198 columns</p>\n",
              "</div>"
            ],
            "text/plain": [
              "   LABEL   FLUX.1   FLUX.2   FLUX.3  ...  FLUX.3194  FLUX.3195  FLUX.3196  FLUX.3197\n",
              "0      2   119.88   100.21    86.46  ...      31.93      35.78     269.43      57.72\n",
              "1      2  5736.59  5699.98  5717.16  ...   -2265.98   -2366.19   -2294.86   -2034.72\n",
              "2      2   844.48   817.49   770.07  ...     -95.23    -162.68     -36.79      30.63\n",
              "3      2  -826.00  -827.31  -846.12  ...      20.25    -120.81    -257.56    -215.41\n",
              "4      2   -39.57   -15.88    -9.16  ...     -81.46     -61.98     -69.34     -17.84\n",
              "\n",
              "[5 rows x 3198 columns]"
            ]
          },
          "metadata": {
            "tags": []
          },
          "execution_count": 18
        }
      ]
    },
    {
      "cell_type": "code",
      "metadata": {
        "id": "0d8o7u-_qmuA",
        "colab_type": "code",
        "colab": {}
      },
      "source": [
        "# Preparing the Dependent and Independent Variables\n",
        "\n",
        "x = data.drop(['LABEL'], axis = 1)\n",
        "y = data['LABEL']"
      ],
      "execution_count": 0,
      "outputs": []
    },
    {
      "cell_type": "code",
      "metadata": {
        "id": "92MvJT1Eq3sU",
        "colab_type": "code",
        "colab": {}
      },
      "source": [
        "# Standardisation and Normalisation\n",
        "\n",
        "x = normalize(x)\n",
        "scaler = StandardScaler()\n",
        "x = scaler.fit_transform(x)"
      ],
      "execution_count": 0,
      "outputs": []
    },
    {
      "cell_type": "code",
      "metadata": {
        "id": "PRo7gvDltE0I",
        "colab_type": "code",
        "colab": {}
      },
      "source": [
        "# Code to make all labels Binary\n",
        "temp = []\n",
        "for e in y:\n",
        "  e = e-1\n",
        "  temp.append(e)\n",
        "  "
      ],
      "execution_count": 0,
      "outputs": []
    },
    {
      "cell_type": "code",
      "metadata": {
        "id": "g1MoYL8ZtYXF",
        "colab_type": "code",
        "colab": {}
      },
      "source": [
        "# Splitting Dataset Into Training and Validation\n",
        "\n",
        "X_train, X_test, y_train, y_test = train_test_split(x, temp, random_state = 0, test_size = 0.2)"
      ],
      "execution_count": 0,
      "outputs": []
    },
    {
      "cell_type": "code",
      "metadata": {
        "id": "j3viu9mNBRsX",
        "colab_type": "code",
        "colab": {}
      },
      "source": [
        "# Let us See How Many Elements Are Present In Each Class\n",
        "\n",
        "count_1 = 0\n",
        "count_0 = 0\n",
        "for e in y_train:\n",
        "  if e == 1:\n",
        "    count_1 = count_1 + 1\n",
        "  elif e == 0:\n",
        "    count_0 = count_0 + 1"
      ],
      "execution_count": 0,
      "outputs": []
    },
    {
      "cell_type": "code",
      "metadata": {
        "id": "5pzlh0VICbfJ",
        "colab_type": "code",
        "outputId": "2f92ae54-07b1-4b6d-dd29-1ccf1712c820",
        "colab": {
          "base_uri": "https://localhost:8080/",
          "height": 51
        }
      },
      "source": [
        "print(count_0)\n",
        "print(count_1)"
      ],
      "execution_count": 24,
      "outputs": [
        {
          "output_type": "stream",
          "text": [
            "3143\n",
            "25\n"
          ],
          "name": "stdout"
        }
      ]
    },
    {
      "cell_type": "code",
      "metadata": {
        "id": "0--GmLSCCsb8",
        "colab_type": "code",
        "colab": {}
      },
      "source": [
        "# Clearly the Dataset is Highly Imbalanced. Hence We need to Perform Synthetic Over Sampling."
      ],
      "execution_count": 0,
      "outputs": []
    },
    {
      "cell_type": "markdown",
      "metadata": {
        "id": "IvA-zPRtmJhv",
        "colab_type": "text"
      },
      "source": [
        "# Preparing Test Set Data"
      ]
    },
    {
      "cell_type": "code",
      "metadata": {
        "id": "hi3wzriSokB7",
        "colab_type": "code",
        "colab": {}
      },
      "source": [
        "x_testf = test_data.drop(['LABEL'], axis = 1)\n",
        "y_testf = test_data['LABEL']"
      ],
      "execution_count": 0,
      "outputs": []
    },
    {
      "cell_type": "code",
      "metadata": {
        "colab_type": "code",
        "outputId": "0300f9c7-c5e5-4f5b-e5b1-76c4251ae004",
        "id": "S9gQ-mWLqqfL",
        "colab": {
          "base_uri": "https://localhost:8080/",
          "height": 34
        }
      },
      "source": [
        "x_testf.shape"
      ],
      "execution_count": 26,
      "outputs": [
        {
          "output_type": "execute_result",
          "data": {
            "text/plain": [
              "(570, 3197)"
            ]
          },
          "metadata": {
            "tags": []
          },
          "execution_count": 26
        }
      ]
    },
    {
      "cell_type": "code",
      "metadata": {
        "colab_type": "code",
        "outputId": "73739f46-2260-42df-a175-1e9799d915a7",
        "id": "OfvF75a0qqfY",
        "colab": {
          "base_uri": "https://localhost:8080/",
          "height": 34
        }
      },
      "source": [
        "y_testf.shape"
      ],
      "execution_count": 27,
      "outputs": [
        {
          "output_type": "execute_result",
          "data": {
            "text/plain": [
              "(570,)"
            ]
          },
          "metadata": {
            "tags": []
          },
          "execution_count": 27
        }
      ]
    },
    {
      "cell_type": "code",
      "metadata": {
        "colab_type": "code",
        "id": "q9auhP4rqqfl",
        "colab": {}
      },
      "source": [
        "x_testf = normalize(x_testf)\n",
        "scaler = StandardScaler()\n",
        "x_testf = scaler.fit_transform(x_testf)"
      ],
      "execution_count": 0,
      "outputs": []
    },
    {
      "cell_type": "code",
      "metadata": {
        "colab_type": "code",
        "id": "Fati7Qmaqqft",
        "colab": {}
      },
      "source": [
        "# Code to make all labels Binary\n",
        "temp2 = []\n",
        "for e in y_testf:\n",
        "  e = e-1\n",
        "  temp2.append(e)\n",
        "  "
      ],
      "execution_count": 0,
      "outputs": []
    },
    {
      "cell_type": "code",
      "metadata": {
        "id": "c4BBBHNOC-7E",
        "colab_type": "code",
        "colab": {}
      },
      "source": [
        "# x_testf and temp2 are the x_data and y_data for the test set respectively"
      ],
      "execution_count": 0,
      "outputs": []
    },
    {
      "cell_type": "code",
      "metadata": {
        "id": "q2iUkcLuttjY",
        "colab_type": "code",
        "colab": {}
      },
      "source": [
        "#Dimentionlity reduction(Optional..In this Experiment Not Performing Reduction Yielded Better Results)\n",
        "'''from sklearn.decomposition import PCA\n",
        "pca = PCA() \n",
        "X_train = pca.fit_transform(X_train)\n",
        "X_test = pca.transform(X_test)\n",
        "total=sum(pca.explained_variance_)\n",
        "k=0\n",
        "current_variance=0\n",
        "while current_variance/total < 0.90:\n",
        "    current_variance += pca.explained_variance_[k]\n",
        "    k=k+1'''"
      ],
      "execution_count": 0,
      "outputs": []
    },
    {
      "cell_type": "code",
      "metadata": {
        "id": "rL6NCeUAt9MO",
        "colab_type": "code",
        "colab": {}
      },
      "source": [
        "#Apply PCA with n_componenets\n",
        "'''pca = PCA(n_components=k)\n",
        "X_train = pca.fit_transform(X_train)\n",
        "X_test = pca.transform(X_test)\n",
        "plt.figure()\n",
        "plt.plot(np.cumsum(pca.explained_variance_ratio_))\n",
        "plt.xlabel('Number of Features')\n",
        "plt.ylabel('Variance (%)') #for each component\n",
        "plt.title('Variance in Dataset with Features')\n",
        "plt.show()'''"
      ],
      "execution_count": 0,
      "outputs": []
    },
    {
      "cell_type": "markdown",
      "metadata": {
        "id": "-7SrIzP1Ak-h",
        "colab_type": "text"
      },
      "source": [
        "# OverSampling Using SMOTE(Synthetic Minority Over-Sampling Technique)"
      ]
    },
    {
      "cell_type": "code",
      "metadata": {
        "id": "-teivcLv3wp6",
        "colab_type": "code",
        "colab": {}
      },
      "source": [
        "# Now we use SMOTE to Synthesise Artificial Data to balance classes"
      ],
      "execution_count": 0,
      "outputs": []
    },
    {
      "cell_type": "code",
      "metadata": {
        "colab_type": "code",
        "id": "wmRK6cw-3V9z",
        "outputId": "6b3ee679-e807-48dd-ed72-b26e5dc475e8",
        "colab": {
          "base_uri": "https://localhost:8080/",
          "height": 105
        }
      },
      "source": [
        "from imblearn.over_sampling import SMOTE"
      ],
      "execution_count": 30,
      "outputs": [
        {
          "output_type": "stream",
          "text": [
            "/usr/local/lib/python3.6/dist-packages/sklearn/externals/six.py:31: FutureWarning: The module is deprecated in version 0.21 and will be removed in version 0.23 since we've dropped support for Python 2.7. Please rely on the official version of six (https://pypi.org/project/six/).\n",
            "  \"(https://pypi.org/project/six/).\", FutureWarning)\n",
            "/usr/local/lib/python3.6/dist-packages/sklearn/utils/deprecation.py:144: FutureWarning: The sklearn.neighbors.base module is  deprecated in version 0.22 and will be removed in version 0.24. The corresponding classes / functions should instead be imported from sklearn.neighbors. Anything that cannot be imported from sklearn.neighbors is now part of the private API.\n",
            "  warnings.warn(message, FutureWarning)\n"
          ],
          "name": "stderr"
        }
      ]
    },
    {
      "cell_type": "code",
      "metadata": {
        "colab_type": "code",
        "outputId": "c83d23e2-e92b-4f4b-a9c1-2b2c91b19bf2",
        "id": "dKkSYf9n3T-x",
        "colab": {
          "base_uri": "https://localhost:8080/",
          "height": 71
        }
      },
      "source": [
        "sm = SMOTE(random_state=27, ratio = 1.0)\n",
        "x_train_res, y_train_res = sm.fit_sample(X_train, y_train)\n"
      ],
      "execution_count": 31,
      "outputs": [
        {
          "output_type": "stream",
          "text": [
            "/usr/local/lib/python3.6/dist-packages/sklearn/utils/deprecation.py:87: FutureWarning: Function safe_indexing is deprecated; safe_indexing is deprecated in version 0.22 and will be removed in version 0.24.\n",
            "  warnings.warn(msg, category=FutureWarning)\n"
          ],
          "name": "stderr"
        }
      ]
    },
    {
      "cell_type": "code",
      "metadata": {
        "id": "v1uV9V6z46Q_",
        "colab_type": "code",
        "colab": {}
      },
      "source": [
        "# Let's count how many elements are present in Class 1"
      ],
      "execution_count": 0,
      "outputs": []
    },
    {
      "cell_type": "code",
      "metadata": {
        "id": "W-8uPYqs5A-e",
        "colab_type": "code",
        "colab": {}
      },
      "source": [
        "# The number of elements in each Class is now Equal\n",
        "\n",
        "count_1 = 0\n",
        "count_0 = 0\n",
        "for e in y_train_res:\n",
        "  if e == 1:\n",
        "    count_1 = count_1 + 1\n",
        "  elif e == 0:\n",
        "    count_0 = count_0 + 1"
      ],
      "execution_count": 0,
      "outputs": []
    },
    {
      "cell_type": "code",
      "metadata": {
        "id": "jO26w28LDWvx",
        "colab_type": "code",
        "outputId": "0d885ba2-5405-4eaa-90df-dea77bda3f0b",
        "colab": {
          "base_uri": "https://localhost:8080/",
          "height": 51
        }
      },
      "source": [
        "print(count_0)\n",
        "print(count_1)"
      ],
      "execution_count": 34,
      "outputs": [
        {
          "output_type": "stream",
          "text": [
            "3143\n",
            "3143\n"
          ],
          "name": "stdout"
        }
      ]
    },
    {
      "cell_type": "code",
      "metadata": {
        "id": "o8uOCfZ6N_rK",
        "colab_type": "code",
        "outputId": "ef10db1e-666e-4090-b4e0-8c7eebf4ba84",
        "colab": {
          "base_uri": "https://localhost:8080/",
          "height": 34
        }
      },
      "source": [
        "x_train_res.shape"
      ],
      "execution_count": 35,
      "outputs": [
        {
          "output_type": "execute_result",
          "data": {
            "text/plain": [
              "(6286, 3197)"
            ]
          },
          "metadata": {
            "tags": []
          },
          "execution_count": 35
        }
      ]
    },
    {
      "cell_type": "code",
      "metadata": {
        "id": "Asw9XZnYOCCa",
        "colab_type": "code",
        "outputId": "f9bb7403-7e18-4064-9e02-64e741028e51",
        "colab": {
          "base_uri": "https://localhost:8080/",
          "height": 34
        }
      },
      "source": [
        "y_train_res.shape"
      ],
      "execution_count": 36,
      "outputs": [
        {
          "output_type": "execute_result",
          "data": {
            "text/plain": [
              "(6286,)"
            ]
          },
          "metadata": {
            "tags": []
          },
          "execution_count": 36
        }
      ]
    },
    {
      "cell_type": "code",
      "metadata": {
        "id": "MtoO5VEGYd9x",
        "colab_type": "code",
        "colab": {}
      },
      "source": [
        "# Changing Input Dimesnions to Make it Usable In CNNs\n",
        "\n",
        "from numpy import newaxis\n",
        "x_train = x_train_res[ :, :, newaxis]"
      ],
      "execution_count": 0,
      "outputs": []
    },
    {
      "cell_type": "code",
      "metadata": {
        "id": "_O2DRvvpZcYO",
        "colab_type": "code",
        "outputId": "2f7af459-3d94-450e-a42f-bbe7c173f3f9",
        "colab": {
          "base_uri": "https://localhost:8080/",
          "height": 34
        }
      },
      "source": [
        "x_train.shape"
      ],
      "execution_count": 38,
      "outputs": [
        {
          "output_type": "execute_result",
          "data": {
            "text/plain": [
              "(6286, 3197, 1)"
            ]
          },
          "metadata": {
            "tags": []
          },
          "execution_count": 38
        }
      ]
    },
    {
      "cell_type": "code",
      "metadata": {
        "id": "zxQM6i2IZhrR",
        "colab_type": "code",
        "outputId": "986614df-7f13-4a3f-96f2-d0532c507a45",
        "colab": {
          "base_uri": "https://localhost:8080/",
          "height": 34
        }
      },
      "source": [
        "X_test.shape"
      ],
      "execution_count": 39,
      "outputs": [
        {
          "output_type": "execute_result",
          "data": {
            "text/plain": [
              "(792, 3197)"
            ]
          },
          "metadata": {
            "tags": []
          },
          "execution_count": 39
        }
      ]
    },
    {
      "cell_type": "code",
      "metadata": {
        "id": "crCTDqGQZkmr",
        "colab_type": "code",
        "colab": {}
      },
      "source": [
        "x_test = X_test[ :, :, newaxis]"
      ],
      "execution_count": 0,
      "outputs": []
    },
    {
      "cell_type": "code",
      "metadata": {
        "id": "5ZoMBw7IEEbC",
        "colab_type": "code",
        "outputId": "cc46f4d1-9c0d-4d6c-9d7a-eb0440a67690",
        "colab": {
          "base_uri": "https://localhost:8080/",
          "height": 34
        }
      },
      "source": [
        "x_test.shape"
      ],
      "execution_count": 41,
      "outputs": [
        {
          "output_type": "execute_result",
          "data": {
            "text/plain": [
              "(792, 3197, 1)"
            ]
          },
          "metadata": {
            "tags": []
          },
          "execution_count": 41
        }
      ]
    },
    {
      "cell_type": "code",
      "metadata": {
        "id": "RGNha6slrE5O",
        "colab_type": "code",
        "colab": {}
      },
      "source": [
        "x_testf2 = x_testf[ :, :, newaxis]"
      ],
      "execution_count": 0,
      "outputs": []
    },
    {
      "cell_type": "code",
      "metadata": {
        "id": "qMmQsVNWrKsb",
        "colab_type": "code",
        "outputId": "b5f25af7-bb41-483a-89b8-7bea933d37b2",
        "colab": {
          "base_uri": "https://localhost:8080/",
          "height": 34
        }
      },
      "source": [
        "x_testf2.shape"
      ],
      "execution_count": 43,
      "outputs": [
        {
          "output_type": "execute_result",
          "data": {
            "text/plain": [
              "(570, 3197, 1)"
            ]
          },
          "metadata": {
            "tags": []
          },
          "execution_count": 43
        }
      ]
    },
    {
      "cell_type": "code",
      "metadata": {
        "id": "XGzideCgEJ4L",
        "colab_type": "code",
        "colab": {}
      },
      "source": [
        "# Note that x_test and y_test are for Validation. x_testf2 and temp2 are Test Set."
      ],
      "execution_count": 0,
      "outputs": []
    },
    {
      "cell_type": "code",
      "metadata": {
        "id": "sz_pt6gNgSp5",
        "colab_type": "code",
        "colab": {
          "base_uri": "https://localhost:8080/",
          "height": 34
        },
        "outputId": "9b6d5b89-0e59-41e2-e049-c670999443b8"
      },
      "source": [
        "from keras.models import Sequential\n",
        "from keras.layers import Dense,Flatten,Activation, Dropout\n",
        "from keras.layers import Conv1D, MaxPooling1D, GlobalMaxPooling1D"
      ],
      "execution_count": 44,
      "outputs": [
        {
          "output_type": "stream",
          "text": [
            "Using TensorFlow backend.\n"
          ],
          "name": "stderr"
        }
      ]
    },
    {
      "cell_type": "markdown",
      "metadata": {
        "id": "tAnBGVEb-Pcx",
        "colab_type": "text"
      },
      "source": [
        "# Multi-Channel CNN"
      ]
    },
    {
      "cell_type": "code",
      "metadata": {
        "id": "QiLbxMg1-e1S",
        "colab_type": "code",
        "outputId": "85943488-0870-4c14-cfc6-80d266252c7f",
        "colab": {
          "base_uri": "https://localhost:8080/",
          "height": 765
        }
      },
      "source": [
        "# First Global-View CNN\n",
        "model4 = Sequential(layers=[\n",
        "    # Note the input shape is the desired size of the Signal \n",
        "    # This is the first convolution\n",
        "    Conv1D(3, (2001), activation='relu', input_shape=(3197,1)),\n",
        "    Conv1D(16, (5), activation='relu'),\n",
        "    Conv1D(16, (5), activation='relu'),\n",
        "    MaxPooling1D(5, 2),\n",
        "   \n",
        "    Conv1D(32, (5), activation='relu'),\n",
        "    Conv1D(32, (5), activation='relu'),\n",
        "    MaxPooling1D(5, 2),\n",
        "\n",
        "    Conv1D(64, (5), activation='relu'),\n",
        "    Conv1D(64, (5), activation='relu'),\n",
        "    MaxPooling1D(5, 2),\n",
        "\n",
        "    Conv1D(128, (5), activation='relu'),\n",
        "    Conv1D(128, (5), activation='relu'),\n",
        "    MaxPooling1D(5, 2),\n",
        "\n",
        "    Conv1D(256, (5), activation='relu'),\n",
        "    Conv1D(256, (5), activation='relu'),\n",
        "    MaxPooling1D(5, 2),\n",
        "  \n",
        "    # Flatten the results to feed into a DNN\n",
        "    Flatten(),\n",
        "    Dense(256, activation='relu'),\n",
        "    \n",
        "])\n",
        "\n",
        "model4.summary()"
      ],
      "execution_count": 0,
      "outputs": [
        {
          "output_type": "stream",
          "text": [
            "Model: \"sequential_1\"\n",
            "_________________________________________________________________\n",
            "Layer (type)                 Output Shape              Param #   \n",
            "=================================================================\n",
            "conv1d_1 (Conv1D)            (None, 1197, 3)           6006      \n",
            "_________________________________________________________________\n",
            "conv1d_2 (Conv1D)            (None, 1193, 16)          256       \n",
            "_________________________________________________________________\n",
            "conv1d_3 (Conv1D)            (None, 1189, 16)          1296      \n",
            "_________________________________________________________________\n",
            "max_pooling1d_1 (MaxPooling1 (None, 593, 16)           0         \n",
            "_________________________________________________________________\n",
            "conv1d_4 (Conv1D)            (None, 589, 32)           2592      \n",
            "_________________________________________________________________\n",
            "conv1d_5 (Conv1D)            (None, 585, 32)           5152      \n",
            "_________________________________________________________________\n",
            "max_pooling1d_2 (MaxPooling1 (None, 291, 32)           0         \n",
            "_________________________________________________________________\n",
            "conv1d_6 (Conv1D)            (None, 287, 64)           10304     \n",
            "_________________________________________________________________\n",
            "conv1d_7 (Conv1D)            (None, 283, 64)           20544     \n",
            "_________________________________________________________________\n",
            "max_pooling1d_3 (MaxPooling1 (None, 140, 64)           0         \n",
            "_________________________________________________________________\n",
            "conv1d_8 (Conv1D)            (None, 136, 128)          41088     \n",
            "_________________________________________________________________\n",
            "conv1d_9 (Conv1D)            (None, 132, 128)          82048     \n",
            "_________________________________________________________________\n",
            "max_pooling1d_4 (MaxPooling1 (None, 64, 128)           0         \n",
            "_________________________________________________________________\n",
            "conv1d_10 (Conv1D)           (None, 60, 256)           164096    \n",
            "_________________________________________________________________\n",
            "conv1d_11 (Conv1D)           (None, 56, 256)           327936    \n",
            "_________________________________________________________________\n",
            "max_pooling1d_5 (MaxPooling1 (None, 26, 256)           0         \n",
            "_________________________________________________________________\n",
            "flatten_1 (Flatten)          (None, 6656)              0         \n",
            "_________________________________________________________________\n",
            "dense_1 (Dense)              (None, 256)               1704192   \n",
            "=================================================================\n",
            "Total params: 2,365,510\n",
            "Trainable params: 2,365,510\n",
            "Non-trainable params: 0\n",
            "_________________________________________________________________\n"
          ],
          "name": "stdout"
        }
      ]
    },
    {
      "cell_type": "code",
      "metadata": {
        "id": "EUcmbVwkBR9O",
        "colab_type": "code",
        "outputId": "49906587-5dd8-4448-9aaa-62cafb915003",
        "colab": {
          "base_uri": "https://localhost:8080/",
          "height": 459
        }
      },
      "source": [
        "# Local View CNN\n",
        "model5 = Sequential(layers=[\n",
        "    # Note the input shape is the desired size of the signal\n",
        "    # This is the first convolution\n",
        "    Conv1D(3, (201), activation='relu', input_shape=(3197,1)),\n",
        "    Conv1D(16, (5), activation='relu'),\n",
        "    Conv1D(16, (5), activation='relu'),\n",
        "    MaxPooling1D(7, 2),\n",
        "   \n",
        "    Conv1D(32, (5), activation='relu'),\n",
        "    Conv1D(32, (5), activation='relu'),\n",
        "    MaxPooling1D(7, 2),\n",
        "\n",
        "  \n",
        "    # Flatten the results to feed into a DNN\n",
        "    Flatten(),\n",
        "    Dense(256, activation='relu'),\n",
        "\n",
        "    \n",
        "])\n",
        "\n",
        "model5.summary()"
      ],
      "execution_count": 0,
      "outputs": [
        {
          "output_type": "stream",
          "text": [
            "Model: \"sequential_2\"\n",
            "_________________________________________________________________\n",
            "Layer (type)                 Output Shape              Param #   \n",
            "=================================================================\n",
            "conv1d_12 (Conv1D)           (None, 2997, 3)           606       \n",
            "_________________________________________________________________\n",
            "conv1d_13 (Conv1D)           (None, 2993, 16)          256       \n",
            "_________________________________________________________________\n",
            "conv1d_14 (Conv1D)           (None, 2989, 16)          1296      \n",
            "_________________________________________________________________\n",
            "max_pooling1d_6 (MaxPooling1 (None, 1492, 16)          0         \n",
            "_________________________________________________________________\n",
            "conv1d_15 (Conv1D)           (None, 1488, 32)          2592      \n",
            "_________________________________________________________________\n",
            "conv1d_16 (Conv1D)           (None, 1484, 32)          5152      \n",
            "_________________________________________________________________\n",
            "max_pooling1d_7 (MaxPooling1 (None, 739, 32)           0         \n",
            "_________________________________________________________________\n",
            "flatten_2 (Flatten)          (None, 23648)             0         \n",
            "_________________________________________________________________\n",
            "dense_2 (Dense)              (None, 256)               6054144   \n",
            "=================================================================\n",
            "Total params: 6,064,046\n",
            "Trainable params: 6,064,046\n",
            "Non-trainable params: 0\n",
            "_________________________________________________________________\n"
          ],
          "name": "stdout"
        }
      ]
    },
    {
      "cell_type": "code",
      "metadata": {
        "id": "znbLc2p8BpUj",
        "colab_type": "code",
        "colab": {}
      },
      "source": [
        "# Merging outputs of both Models Together\n",
        "\n",
        "from keras.layers import concatenate\n",
        "from keras.layers import *\n",
        "mergedOut = Add()([model4.output,model5.output])"
      ],
      "execution_count": 0,
      "outputs": []
    },
    {
      "cell_type": "code",
      "metadata": {
        "id": "ghq-Z48tKelF",
        "colab_type": "code",
        "colab": {}
      },
      "source": [
        "# Adding Some Fully-Connected Layers\n",
        "\n",
        "mergedOut = Dense(512, activation='relu')(mergedOut)\n",
        "mergedOut = Dense(512, activation='relu')(mergedOut)\n",
        "mergedOut = Dense(512, activation='relu')(mergedOut)\n",
        "\n",
        "# output layer\n",
        "mergedOut = Dense(1, activation='sigmoid')(mergedOut)"
      ],
      "execution_count": 0,
      "outputs": []
    },
    {
      "cell_type": "code",
      "metadata": {
        "id": "2m01V9JeK0t9",
        "colab_type": "code",
        "colab": {}
      },
      "source": [
        "from keras.models import Model\n",
        "\n",
        "newModel = Model([model4.input,model5.input], mergedOut)"
      ],
      "execution_count": 0,
      "outputs": []
    },
    {
      "cell_type": "code",
      "metadata": {
        "id": "Q7GhdejULyPx",
        "colab_type": "code",
        "colab": {}
      },
      "source": [
        "import keras\n",
        "from tensorflow.keras.optimizers import Adam, SGD\n",
        "adam = keras.optimizers.Adadelta(learning_rate=0.001, rho=0.95)\n",
        "newModel.compile(loss='binary_crossentropy',\n",
        "               optimizer = adam,\n",
        "               metrics=['acc'])"
      ],
      "execution_count": 0,
      "outputs": []
    },
    {
      "cell_type": "code",
      "metadata": {
        "id": "4hBS7sSUK_IL",
        "colab_type": "code",
        "outputId": "3800d3fa-fdcc-4301-f97a-7cb4c6f6cbe5",
        "colab": {
          "base_uri": "https://localhost:8080/",
          "height": 714
        }
      },
      "source": [
        "history4 = newModel.fit([x_train,x_train], y_train_res, epochs = 20, batch_size = 20, validation_data = ([x_test,x_test],y_test))"
      ],
      "execution_count": 0,
      "outputs": [
        {
          "output_type": "stream",
          "text": [
            "Train on 6286 samples, validate on 792 samples\n",
            "Epoch 1/20\n",
            "6286/6286 [==============================] - 7s 1ms/step - loss: 0.1313 - acc: 0.9739 - val_loss: 0.1571 - val_acc: 0.9356\n",
            "Epoch 2/20\n",
            "6286/6286 [==============================] - 7s 1ms/step - loss: 0.1133 - acc: 0.9792 - val_loss: 0.1420 - val_acc: 0.9432\n",
            "Epoch 3/20\n",
            "6286/6286 [==============================] - 7s 1ms/step - loss: 0.0985 - acc: 0.9809 - val_loss: 0.1263 - val_acc: 0.9495\n",
            "Epoch 4/20\n",
            "6286/6286 [==============================] - 7s 1ms/step - loss: 0.0864 - acc: 0.9833 - val_loss: 0.1374 - val_acc: 0.9444\n",
            "Epoch 5/20\n",
            "6286/6286 [==============================] - 7s 1ms/step - loss: 0.0764 - acc: 0.9844 - val_loss: 0.1192 - val_acc: 0.9533\n",
            "Epoch 6/20\n",
            "6286/6286 [==============================] - 7s 1ms/step - loss: 0.0677 - acc: 0.9866 - val_loss: 0.1003 - val_acc: 0.9646\n",
            "Epoch 7/20\n",
            "6286/6286 [==============================] - 7s 1ms/step - loss: 0.0602 - acc: 0.9882 - val_loss: 0.0918 - val_acc: 0.9684\n",
            "Epoch 8/20\n",
            "6286/6286 [==============================] - 7s 1ms/step - loss: 0.0544 - acc: 0.9890 - val_loss: 0.0978 - val_acc: 0.9672\n",
            "Epoch 9/20\n",
            "6286/6286 [==============================] - 7s 1ms/step - loss: 0.0495 - acc: 0.9908 - val_loss: 0.0914 - val_acc: 0.9697\n",
            "Epoch 10/20\n",
            "6286/6286 [==============================] - 7s 1ms/step - loss: 0.0450 - acc: 0.9908 - val_loss: 0.0825 - val_acc: 0.9760\n",
            "Epoch 11/20\n",
            "6286/6286 [==============================] - 7s 1ms/step - loss: 0.0415 - acc: 0.9924 - val_loss: 0.0792 - val_acc: 0.9773\n",
            "Epoch 12/20\n",
            "6286/6286 [==============================] - 7s 1ms/step - loss: 0.0383 - acc: 0.9924 - val_loss: 0.0758 - val_acc: 0.9811\n",
            "Epoch 13/20\n",
            "6286/6286 [==============================] - 7s 1ms/step - loss: 0.0356 - acc: 0.9933 - val_loss: 0.0803 - val_acc: 0.9773\n",
            "Epoch 14/20\n",
            "6286/6286 [==============================] - 7s 1ms/step - loss: 0.0333 - acc: 0.9940 - val_loss: 0.0771 - val_acc: 0.9798\n",
            "Epoch 15/20\n",
            "6286/6286 [==============================] - 7s 1ms/step - loss: 0.0311 - acc: 0.9938 - val_loss: 0.0765 - val_acc: 0.9811\n",
            "Epoch 16/20\n",
            "6286/6286 [==============================] - 7s 1ms/step - loss: 0.0291 - acc: 0.9943 - val_loss: 0.0746 - val_acc: 0.9836\n",
            "Epoch 17/20\n",
            "6286/6286 [==============================] - 7s 1ms/step - loss: 0.0273 - acc: 0.9943 - val_loss: 0.0711 - val_acc: 0.9836\n",
            "Epoch 18/20\n",
            "6286/6286 [==============================] - 7s 1ms/step - loss: 0.0259 - acc: 0.9948 - val_loss: 0.0737 - val_acc: 0.9823\n",
            "Epoch 19/20\n",
            "6286/6286 [==============================] - 7s 1ms/step - loss: 0.0244 - acc: 0.9946 - val_loss: 0.0716 - val_acc: 0.9836\n",
            "Epoch 20/20\n",
            "6286/6286 [==============================] - 7s 1ms/step - loss: 0.0232 - acc: 0.9951 - val_loss: 0.0701 - val_acc: 0.9836\n"
          ],
          "name": "stdout"
        }
      ]
    },
    {
      "cell_type": "code",
      "metadata": {
        "colab_type": "code",
        "outputId": "7885b793-dda7-49e8-f609-885332b304ef",
        "id": "tRhwZVUiMxiG",
        "colab": {
          "base_uri": "https://localhost:8080/",
          "height": 545
        }
      },
      "source": [
        "import matplotlib.pyplot as plt\n",
        "acc = history4.history['acc']\n",
        "val_acc = history4.history['val_acc']\n",
        "loss = history4.history['loss']\n",
        "val_loss = history4.history['val_loss']\n",
        "\n",
        "epochs = range(len(acc))\n",
        "\n",
        "plt.plot(epochs, acc, 'r', label='Training accuracy')\n",
        "plt.plot(epochs, val_acc, 'b', label='Validation accuracy')\n",
        "plt.title('Training and validation accuracy')\n",
        "\n",
        "plt.figure()\n",
        "\n",
        "plt.plot(epochs, loss, 'r', label='Training Loss')\n",
        "plt.plot(epochs, val_loss, 'b', label='Validation Loss')\n",
        "plt.title('Training and validation loss')\n",
        "plt.legend()\n",
        "\n",
        "plt.show()"
      ],
      "execution_count": 0,
      "outputs": [
        {
          "output_type": "display_data",
          "data": {
            "image/png": "[encoded data removed]",
            "text/plain": [
              "<Figure size 432x288 with 1 Axes>"
            ]
          },
          "metadata": {
            "tags": [],
            "needs_background": "light"
          }
        },
        {
          "output_type": "display_data",
          "data": {
            "image/png": "[encoded data removed]",
            "text/plain": [
              "<Figure size 432x288 with 1 Axes>"
            ]
          },
          "metadata": {
            "tags": [],
            "needs_background": "light"
          }
        }
      ]
    },
    {
      "cell_type": "code",
      "metadata": {
        "id": "X6wMPf5ohVQ-",
        "colab_type": "code",
        "colab": {}
      },
      "source": [
        "# We can Observe from Loss and Accuracy Graphs that Model isn't Overtfitting"
      ],
      "execution_count": 0,
      "outputs": []
    },
    {
      "cell_type": "code",
      "metadata": {
        "colab_type": "code",
        "id": "v88KjQEgMxiP",
        "colab": {}
      },
      "source": [
        "y_pred = newModel.predict([x_test,x_test])"
      ],
      "execution_count": 0,
      "outputs": []
    },
    {
      "cell_type": "code",
      "metadata": {
        "colab_type": "code",
        "id": "N6osccHlMxiT",
        "colab": {}
      },
      "source": [
        "y_pred2 = []\n",
        "for m in y_pred:\n",
        "  if m > 0.5:\n",
        "    y_pred2.append(1)\n",
        "  else:\n",
        "    y_pred2.append(0)"
      ],
      "execution_count": 0,
      "outputs": []
    },
    {
      "cell_type": "code",
      "metadata": {
        "colab_type": "code",
        "id": "X7R8a1G5MxiW",
        "colab": {}
      },
      "source": [
        "from sklearn.metrics import confusion_matrix, classification_report"
      ],
      "execution_count": 0,
      "outputs": []
    },
    {
      "cell_type": "code",
      "metadata": {
        "colab_type": "code",
        "outputId": "344478c8-e608-43f3-bf64-5e3df009db9e",
        "id": "-raK_xjBMxiZ",
        "colab": {
          "base_uri": "https://localhost:8080/",
          "height": 51
        }
      },
      "source": [
        "# The Architecture Identifies 777/784 cases of Non-Exo-Planets Correctly in Validation Set\n",
        "# The Architecture however Fails to Identify Exo-Planet and Identifies 2/8 Cases in Validation Set\n",
        "\n",
        "confusion_matrix(y_pred2,y_test)"
      ],
      "execution_count": 0,
      "outputs": [
        {
          "output_type": "execute_result",
          "data": {
            "text/plain": [
              "array([[777,   6],\n",
              "       [  7,   2]])"
            ]
          },
          "metadata": {
            "tags": []
          },
          "execution_count": 116
        }
      ]
    },
    {
      "cell_type": "code",
      "metadata": {
        "colab_type": "code",
        "outputId": "6b93d5d5-af9c-4bed-c872-4b97244283d7",
        "id": "X3KZNd_wMxic",
        "colab": {
          "base_uri": "https://localhost:8080/",
          "height": 170
        }
      },
      "source": [
        "print(classification_report(y_test,y_pred2))"
      ],
      "execution_count": 0,
      "outputs": [
        {
          "output_type": "stream",
          "text": [
            "              precision    recall  f1-score   support\n",
            "\n",
            "           0       0.99      0.99      0.99       784\n",
            "           1       0.22      0.25      0.24         8\n",
            "\n",
            "    accuracy                           0.98       792\n",
            "   macro avg       0.61      0.62      0.61       792\n",
            "weighted avg       0.98      0.98      0.98       792\n",
            "\n"
          ],
          "name": "stdout"
        }
      ]
    },
    {
      "cell_type": "code",
      "metadata": {
        "colab_type": "code",
        "id": "XUUKg28xO6lz",
        "colab": {}
      },
      "source": [
        "y_pred2 = newModel.predict([x_testf2,x_testf2])"
      ],
      "execution_count": 0,
      "outputs": []
    },
    {
      "cell_type": "code",
      "metadata": {
        "colab_type": "code",
        "id": "A5BJXIEoO6mX",
        "colab": {}
      },
      "source": [
        "y_pred3 = []\n",
        "for m in y_pred2:\n",
        "  if m > 0.5:\n",
        "    y_pred3.append(1)\n",
        "  else:\n",
        "    y_pred3.append(0)"
      ],
      "execution_count": 0,
      "outputs": []
    },
    {
      "cell_type": "code",
      "metadata": {
        "colab_type": "code",
        "outputId": "1a5b6af9-3ed5-437c-b918-7a0722bbc08d",
        "id": "3jkzIrwvO6md",
        "colab": {
          "base_uri": "https://localhost:8080/",
          "height": 51
        }
      },
      "source": [
        "# The Architecture Gives good result on Test Set\n",
        "# The Architecture Identifies all Non-ExoPlanets Correctly Which is Extremely Encouraging\n",
        "# The Architecture Identifies 3/5 Exo-Planets Correctly\n",
        "\n",
        "confusion_matrix(y_pred3, temp2)"
      ],
      "execution_count": 0,
      "outputs": [
        {
          "output_type": "execute_result",
          "data": {
            "text/plain": [
              "array([[565,   2],\n",
              "       [  0,   3]])"
            ]
          },
          "metadata": {
            "tags": []
          },
          "execution_count": 131
        }
      ]
    },
    {
      "cell_type": "code",
      "metadata": {
        "colab_type": "code",
        "outputId": "034e9f46-eace-41d2-8d3e-6cc4b61919fa",
        "id": "wCDY0uKoO6mk",
        "colab": {
          "base_uri": "https://localhost:8080/",
          "height": 170
        }
      },
      "source": [
        "# Precision and Recall are perfect for the Non-ExoPlanets because the model predicts Non-ExoPlanets Flawlessly\n",
        "# Recall goes down for Exo-Planets because 2 Exo-Planets were Mis-Classified as Non-ExoPlanets\n",
        "\n",
        "print(classification_report(temp2,y_pred3))"
      ],
      "execution_count": 0,
      "outputs": [
        {
          "output_type": "stream",
          "text": [
            "              precision    recall  f1-score   support\n",
            "\n",
            "           0       1.00      1.00      1.00       565\n",
            "           1       1.00      0.60      0.75         5\n",
            "\n",
            "    accuracy                           1.00       570\n",
            "   macro avg       1.00      0.80      0.87       570\n",
            "weighted avg       1.00      1.00      1.00       570\n",
            "\n"
          ],
          "name": "stdout"
        }
      ]
    }
  ]
}